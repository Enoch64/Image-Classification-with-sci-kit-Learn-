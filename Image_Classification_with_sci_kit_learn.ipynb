{
  "nbformat": 4,
  "nbformat_minor": 0,
  "metadata": {
    "colab": {
      "provenance": [],
      "authorship_tag": "ABX9TyOG2vjw2ydU4/agkoYlOPzE",
      "include_colab_link": true
    },
    "kernelspec": {
      "name": "python3",
      "display_name": "Python 3"
    },
    "language_info": {
      "name": "python"
    }
  },
  "cells": [
    {
      "cell_type": "markdown",
      "metadata": {
        "id": "view-in-github",
        "colab_type": "text"
      },
      "source": [
        "<a href=\"https://colab.research.google.com/github/Enoch64/Image-Classification-with-sci-kit-Learn-/blob/main/Image_Classification_with_sci_kit_learn.ipynb\" target=\"_parent\"><img src=\"https://colab.research.google.com/assets/colab-badge.svg\" alt=\"Open In Colab\"/></a>"
      ]
    },
    {
      "cell_type": "code",
      "execution_count": 1,
      "metadata": {
        "id": "o5ujv-lL2u27"
      },
      "outputs": [],
      "source": [
        "import sys \n",
        "assert sys.version_info >= (3, 7)\n",
        "\n"
      ]
    },
    {
      "cell_type": "code",
      "source": [
        "from packaging import version\n",
        "import sklearn\n",
        "\n",
        "assert version.parse(sklearn.__version__) >= version.parse(\"1.0.1\")"
      ],
      "metadata": {
        "id": "aXSwfim03UDo"
      },
      "execution_count": 2,
      "outputs": []
    },
    {
      "cell_type": "code",
      "source": [
        "#Defining the font sizes to make the figures more clear \n",
        "import matplotlib.pyplot as plt\n",
        "\n",
        "plt.rc('font', size=14)\n",
        "plt.rc('axes', labelsize=14, titlesize=14)\n",
        "plt.rc('legend', fontsize=14)\n",
        "plt.rc('xtick', labelsize=10)\n",
        "plt.rc('ytick', labelsize=10)"
      ],
      "metadata": {
        "id": "n53nwh203Y8n"
      },
      "execution_count": 3,
      "outputs": []
    },
    {
      "cell_type": "code",
      "source": [
        "#Creating an image classification folder to save figures in high resoltuion \n",
        "from pathlib import Path\n",
        "\n",
        "IMAGES_PATH = Path() / \"images\" / \"classification\"\n",
        "IMAGES_PATH.mkdir(parents=True, exist_ok=True)\n",
        "\n",
        "def save_fig(fig_id, tight_layout=True, fig_extension=\"png\", resolution=300):\n",
        "    path = IMAGES_PATH / f\"{fig_id}.{fig_extension}\"\n",
        "    if tight_layout:\n",
        "        plt.tight_layout()\n",
        "    plt.savefig(path, format=fig_extension, dpi=resolution)"
      ],
      "metadata": {
        "id": "XAD2tGHU3h-5"
      },
      "execution_count": 4,
      "outputs": []
    },
    {
      "cell_type": "code",
      "source": [
        "#import the MNIST data set from sklearn module \n",
        "from sklearn.datasets import fetch_openml\n",
        "mnist = fetch_openml('mnist_784', as_frame = False)\n"
      ],
      "metadata": {
        "id": "J715I11B37dI"
      },
      "execution_count": 5,
      "outputs": []
    },
    {
      "cell_type": "code",
      "source": [
        "\n",
        "mnist.keys()\n",
        "#The dictionary structure of the data\n",
        "#A DESCR key describing the dataset\n",
        "#A a data key containing an array with one row per instance and one column per feature \n"
      ],
      "metadata": {
        "colab": {
          "base_uri": "https://localhost:8080/"
        },
        "id": "syvxsU9g5B7x",
        "outputId": "5a4e0669-27e4-4b5d-e8d3-6b671a2be0d3"
      },
      "execution_count": 6,
      "outputs": [
        {
          "output_type": "execute_result",
          "data": {
            "text/plain": [
              "dict_keys(['data', 'target', 'frame', 'categories', 'feature_names', 'target_names', 'DESCR', 'details', 'url'])"
            ]
          },
          "metadata": {},
          "execution_count": 6
        }
      ]
    },
    {
      "cell_type": "code",
      "source": [
        "X, y = mnist[\"data\"], mnist[\"target\"]"
      ],
      "metadata": {
        "id": "968rsns35rW5"
      },
      "execution_count": 7,
      "outputs": []
    },
    {
      "cell_type": "code",
      "source": [
        "X.shape"
      ],
      "metadata": {
        "colab": {
          "base_uri": "https://localhost:8080/"
        },
        "id": "FnMd8MLM7Ckt",
        "outputId": "28bb1c98-f3ed-447c-9c3f-2654f7830e67"
      },
      "execution_count": 8,
      "outputs": [
        {
          "output_type": "execute_result",
          "data": {
            "text/plain": [
              "(70000, 784)"
            ]
          },
          "metadata": {},
          "execution_count": 8
        }
      ]
    },
    {
      "cell_type": "code",
      "source": [
        "y.shape"
      ],
      "metadata": {
        "colab": {
          "base_uri": "https://localhost:8080/"
        },
        "id": "pRBnKAvA7EgN",
        "outputId": "875bbbfd-f5f0-4e71-c3b1-219c8ab37154"
      },
      "execution_count": 9,
      "outputs": [
        {
          "output_type": "execute_result",
          "data": {
            "text/plain": [
              "(70000,)"
            ]
          },
          "metadata": {},
          "execution_count": 9
        }
      ]
    },
    {
      "cell_type": "markdown",
      "source": [
        "There are 70,000 images, and each image has 784 features.This is because each image is a 28x28 pixel and each feautre represents one pixel's intensity from 0 to 255. Let's look at one digit from the data set. By grabbing an instance's feature vector and reshaping it to a 28x28 array we can display it with matplotlibs imshow() function\n",
        "\n"
      ],
      "metadata": {
        "id": "YHg6Gkza7SOv"
      }
    },
    {
      "cell_type": "code",
      "source": [
        "#Using matplot lib to graph a hand written digit \n",
        "import matplotlib as mpl\n",
        "import matplotlib.pyplot as plt\n",
        "\n",
        "some_digit = X[0]\n",
        "some_digit_image = some_digit.reshape(28,28)\n",
        "plt.imshow(some_digit_image, cmap = mpl.cm.binary, interpolation=\"nearest\")\n",
        "plt.axis('off')\n",
        "plt.show()\n"
      ],
      "metadata": {
        "colab": {
          "base_uri": "https://localhost:8080/",
          "height": 248
        },
        "id": "tRAlA5ge6a1G",
        "outputId": "e73f5482-44b1-4377-d032-bb21111c171b"
      },
      "execution_count": 10,
      "outputs": [
        {
          "output_type": "display_data",
          "data": {
            "text/plain": [
              "<Figure size 432x288 with 1 Axes>"
            ],
            "image/png": "[encoded data removed]"
          },
          "metadata": {
            "needs_background": "light"
          }
        }
      ]
    },
    {
      "cell_type": "code",
      "source": [
        "y[0]\n"
      ],
      "metadata": {
        "colab": {
          "base_uri": "https://localhost:8080/",
          "height": 35
        },
        "id": "DoWNOgCP8jjj",
        "outputId": "8434ae7e-4253-47d8-8590-51768aeef195"
      },
      "execution_count": 11,
      "outputs": [
        {
          "output_type": "execute_result",
          "data": {
            "text/plain": [
              "'5'"
            ],
            "application/vnd.google.colaboratory.intrinsic+json": {
              "type": "string"
            }
          },
          "metadata": {},
          "execution_count": 11
        }
      ]
    },
    {
      "cell_type": "markdown",
      "source": [
        "The above digit is indeed 5. Note that the label is a string so we do an simply integer conversion\n",
        "\n"
      ],
      "metadata": {
        "id": "LDjcs0Nc8o2m"
      }
    },
    {
      "cell_type": "code",
      "source": [
        "import numpy as np\n",
        "y = y.astype(np.uint8)\n"
      ],
      "metadata": {
        "id": "K3Q6g0PS8q1m"
      },
      "execution_count": 12,
      "outputs": []
    },
    {
      "cell_type": "markdown",
      "source": [
        "We now need to create a test set before inspecting the data closely. The MNIST data set is already split into a training set(first 60,000 images) and test set(the last 10,000 images)\n"
      ],
      "metadata": {
        "id": "rAnuPn3j9MXa"
      }
    },
    {
      "cell_type": "code",
      "source": [
        "X_train, X_test, y_train, y_test = X[:60000], X[60000:], y[:60000], y[60000:]\n"
      ],
      "metadata": {
        "id": "DkibNjxV9e2s"
      },
      "execution_count": 13,
      "outputs": []
    },
    {
      "cell_type": "markdown",
      "source": [
        "##**Training a Binary Classifier**"
      ],
      "metadata": {
        "id": "CIg9oTzp-YCR"
      }
    },
    {
      "cell_type": "markdown",
      "source": [
        "Let's simplify the problem for now to idnetify a singel digit e.g 5. This \"5 detector\" will be an example of a binary classifier, capable of distinguishing between just two classes i.e. \"5\" and \"not 5\" "
      ],
      "metadata": {
        "id": "UKzPPh0r_TxI"
      }
    },
    {
      "cell_type": "code",
      "source": [
        "#Creating a target vectors for this classification task \n",
        "y_train_5 = (y_train == 5) #True for all 5s false for all other digits \n",
        "y_test_5 = (y_test ==5)"
      ],
      "metadata": {
        "id": "6cik0XdT_7Nj"
      },
      "execution_count": 14,
      "outputs": []
    },
    {
      "cell_type": "markdown",
      "source": [
        "A good classifier to chose would be *Stochastic Gradient Decent*(SGD) using Scikit-Learn's SGD Classifier class. This classifier has the capabilities to handle very large data sets effeciently. This is partly because the SGD deals with training instances independently one at a time. \n"
      ],
      "metadata": {
        "id": "6FR6B2i6Fdfe"
      }
    },
    {
      "cell_type": "code",
      "source": [
        "#Let's create an SGDC classifier and train it on the whole training set \n",
        "from sklearn.linear_model import SGDClassifier\n",
        "\n",
        "sgd_clf = SGDClassifier(random_state=42)\n",
        "sgd_clf = sgd_clf.fit(X_train, y_train_5)"
      ],
      "metadata": {
        "id": "2dZZj8J-GWng"
      },
      "execution_count": 15,
      "outputs": []
    },
    {
      "cell_type": "code",
      "source": [
        "sgd_clf.predict([some_digit])\n",
        "\n"
      ],
      "metadata": {
        "colab": {
          "base_uri": "https://localhost:8080/"
        },
        "id": "vHpaz4L3Gndy",
        "outputId": "b581e256-1a8e-42c0-ba3d-47fbdac92c67"
      },
      "execution_count": 16,
      "outputs": [
        {
          "output_type": "execute_result",
          "data": {
            "text/plain": [
              "array([ True])"
            ]
          },
          "metadata": {},
          "execution_count": 16
        }
      ]
    },
    {
      "cell_type": "markdown",
      "source": [
        "This classifier guesses this image represents a 5(True). Looks like it guessed right in this particular case. Now let's evaluate the performance of Stochastic Gradient Decent "
      ],
      "metadata": {
        "id": "61-Tr9rpLDEL"
      }
    },
    {
      "cell_type": "markdown",
      "source": [
        "##**Measuring accuracy with Cross Validation**"
      ],
      "metadata": {
        "id": "pqnDlCssLVlV"
      }
    },
    {
      "cell_type": "code",
      "source": [
        "#Implementing Cross Validation\n",
        "from sklearn.model_selection import StratifiedKFold\n",
        "from sklearn.base import clone \n",
        "skfolds = StratifiedKFold(n_splits=3, random_state=None)\n",
        "\n",
        "\n",
        "for train_index, test_index in skfolds.split(X_train, y_train_5):\n",
        "  clone_clf = clone(sgd_clf)\n",
        "  X_train_folds = X_train[train_index]\n",
        "  y_train_folds = y_train_5[train_index]\n",
        "  X_test_fold = X_train[test_index]\n",
        "  y_test_fold = y_train_5[test_index]\n",
        "  clone_clf.fit(X_train_folds, y_train_folds)\n",
        "  y_pred = clone_clf.predict(X_test_fold)\n",
        "  n_correct = sum(y_pred == y_test_fold)\n",
        "  print(n_correct / len(y_pred)) # prints 0.9502, 0.96565 and 0.96495\n"
      ],
      "metadata": {
        "colab": {
          "base_uri": "https://localhost:8080/"
        },
        "id": "TkPzSUahM09r",
        "outputId": "76514e98-6885-46a9-ecc9-6ee3a62080ad"
      },
      "execution_count": 17,
      "outputs": [
        {
          "output_type": "stream",
          "name": "stdout",
          "text": [
            "0.95035\n",
            "0.96035\n",
            "0.9604\n"
          ]
        }
      ]
    },
    {
      "cell_type": "markdown",
      "source": [
        "The StratifiedKFold class perofrms stratified sampling to produce folds that contain a representative ratio of each class. At each iteration the code creates a clone of the classifier, trains that clone on the training folds and makes prediction on the test folds. Then it counts the number of correct predictions and outputs the ratio of correct prediction "
      ],
      "metadata": {
        "id": "eD-qTE81Pmoh"
      }
    },
    {
      "cell_type": "code",
      "source": [
        "#Let's use the cross_val_score() function to evaluate our SGD Classifier model using K-fold cross validation\n",
        "from sklearn.model_selection import cross_val_score\n",
        "cross_val_score(sgd_clf, X_train, y_train_5, cv=3, scoring=\"accuracy\")\n"
      ],
      "metadata": {
        "colab": {
          "base_uri": "https://localhost:8080/"
        },
        "id": "36yP0KIzSR-V",
        "outputId": "bbc99a15-9d33-4ecf-981b-8608b34ed35b"
      },
      "execution_count": 18,
      "outputs": [
        {
          "output_type": "execute_result",
          "data": {
            "text/plain": [
              "array([0.95035, 0.96035, 0.9604 ])"
            ]
          },
          "metadata": {},
          "execution_count": 18
        }
      ]
    },
    {
      "cell_type": "markdown",
      "source": [
        "The model has an accuracy of over 90% accuracy because about 10% of the images are 5s. So if you guess that an immage is not 5 you will be right 90% of the time!This demonstrates why accuracy is not the preferred performance for classifiers especially when dealing with skewed data sets(i.e when some classes are more frequent than others\n"
      ],
      "metadata": {
        "id": "Y0MZaIZyqA4Y"
      }
    },
    {
      "cell_type": "markdown",
      "source": [
        "##**Confusion Matrix**\n",
        "\n",
        "A much better way to evaluate to evaluate the performance of a classifier is to look at the confusion matrix. The general idea is to count the number of instances in class A are classified as class B. In our case we'd count the number of times the classifier confused images of 5s with 3s, you would look at the 5th row and 3rd column of the confusion matrix "
      ],
      "metadata": {
        "id": "298u3wkrqkfL"
      }
    },
    {
      "cell_type": "markdown",
      "source": [
        "To compute the confusion matrix, you first need to have a set of predictions, so they can be compared to actual targets. You could make predictions on the test set but we usually want to use the test send at the very end of the project"
      ],
      "metadata": {
        "id": "M1ykqLcVrRVN"
      }
    },
    {
      "cell_type": "code",
      "source": [
        "from sklearn.model_selection import cross_val_predict\n",
        "y_train_pred = cross_val_predict(sgd_clf, X_train, y_train_5, cv=3)\n"
      ],
      "metadata": {
        "id": "9-K9ABzHr63y"
      },
      "execution_count": 19,
      "outputs": []
    },
    {
      "cell_type": "markdown",
      "source": [
        "Just like the cross_val_score() function, cross_val_predict() perform K-fold cross validation, but instead of returning evaluation scores, it returns predictions made on each test fold "
      ],
      "metadata": {
        "id": "isJWaYAGtQk6"
      }
    },
    {
      "cell_type": "code",
      "source": [
        "#Getting the confusion matrix with the predictions made on the test folds \n",
        "from sklearn.metrics import confusion_matrix\n",
        "confusion_matrix(y_train_5, y_train_pred)\n"
      ],
      "metadata": {
        "colab": {
          "base_uri": "https://localhost:8080/"
        },
        "id": "cftw7yt1tlVX",
        "outputId": "80ef4b8f-e3e9-457e-ac98-78c0392948d6"
      },
      "execution_count": 20,
      "outputs": [
        {
          "output_type": "execute_result",
          "data": {
            "text/plain": [
              "array([[53892,   687],\n",
              "       [ 1891,  3530]])"
            ]
          },
          "metadata": {},
          "execution_count": 20
        }
      ]
    },
    {
      "cell_type": "markdown",
      "source": [
        "Each row in the confusion matrix represents *actual class*, while each column represents the *predicted class*. \n",
        "\n",
        "The first row of the matrix considers non-5 images(negative class). 53,892 images were correctly classified as non-5s while the remaining 687 were wrongly classfied as 5s. The second row considers the images of 5s(positive class). 1891 were wrongly classified as non-5s(false negatives) while the remaining 3530 were classified correctly as 5s(true positives)"
      ],
      "metadata": {
        "id": "HGJKKCAMt32m"
      }
    },
    {
      "cell_type": "markdown",
      "source": [
        "There are various strategies that you can use to perform multiclass classification using multiple binary classifiers. For example, one way to create a system that can classify the digital images into 10 classes(from 0 to 9) is to train 10 binary classifiers \n",
        "\n",
        "Another strategy is to train a binary classifier or ever pair of digits: one to distinguish 0s and 1s, another to distinguish 0s and 2s and so on. This is called the *the one versus one*(OvO) strategy. If there are N classes, you need to train N x (N-1)/2 classifiers. In particular for the MNIST data set this means training 45 binary classes. "
      ],
      "metadata": {
        "id": "bUMRrZ-NC7VF"
      }
    },
    {
      "cell_type": "markdown",
      "source": [
        "Some algorithms(such as Support Vector Machine classifiers) scale poorly with the training set, so for these algorithms OvO is preferred since its faster to train many classifiers on small training sets than training few classifiers on large training sets."
      ],
      "metadata": {
        "id": "RUw09AZHS1Dy"
      }
    },
    {
      "cell_type": "markdown",
      "source": [
        "Scikit learn detects when you are trying to use a binary classfication algorithm for a multi-class classification task and it automatically runs OvA. One versus All(OvA) is a heurestic method for using binary classification algorithm for multi-class algorithms. "
      ],
      "metadata": {
        "id": "8ddNVKyy5Miu"
      }
    },
    {
      "cell_type": "code",
      "source": [
        "#Multi-class classification with Stochastic Gradient Descent(SGD)\n",
        "sgd_clf.fit(X_train, y_train) \n",
        "#Let's predict what X[2] will be \n",
        "sgd_clf.predict([X[2]])\n"
      ],
      "metadata": {
        "colab": {
          "base_uri": "https://localhost:8080/"
        },
        "id": "2jNqjR_36fQF",
        "outputId": "48592b7e-59d7-4eda-aa34-85d7b30afd59"
      },
      "execution_count": 21,
      "outputs": [
        {
          "output_type": "execute_result",
          "data": {
            "text/plain": [
              "array([4], dtype=uint8)"
            ]
          },
          "metadata": {},
          "execution_count": 21
        }
      ]
    },
    {
      "cell_type": "code",
      "source": [
        "y[2]"
      ],
      "metadata": {
        "colab": {
          "base_uri": "https://localhost:8080/"
        },
        "id": "u4zaMgZSLDHL",
        "outputId": "665cf354-a9f1-40ee-f8be-5ff5451f7671"
      },
      "execution_count": 22,
      "outputs": [
        {
          "output_type": "execute_result",
          "data": {
            "text/plain": [
              "4"
            ]
          },
          "metadata": {},
          "execution_count": 22
        }
      ]
    },
    {
      "cell_type": "markdown",
      "source": [
        "As seen above the model correctly classified the number 4 "
      ],
      "metadata": {
        "id": "8zmbm7PEMEx0"
      }
    },
    {
      "cell_type": "code",
      "source": [
        "#Error analysis for the mutliclass SGD Classifier\n",
        "cross_val_score(sgd_clf, X_train, y_train, cv=3, scoring=\"accuracy\")\n"
      ],
      "metadata": {
        "colab": {
          "base_uri": "https://localhost:8080/"
        },
        "id": "gooB8_tEZiky",
        "outputId": "d01b9aeb-1190-440e-90f2-b9a3f5780e07"
      },
      "execution_count": 23,
      "outputs": [
        {
          "output_type": "execute_result",
          "data": {
            "text/plain": [
              "array([0.87365, 0.85835, 0.8689 ])"
            ]
          },
          "metadata": {},
          "execution_count": 23
        }
      ]
    },
    {
      "cell_type": "markdown",
      "source": [
        "It gets over 84% accuracy on all test folds however this can be imporved by scaling the inputs"
      ],
      "metadata": {
        "id": "gMn4JanraYKL"
      }
    },
    {
      "cell_type": "code",
      "source": [
        "#Scaling inputs to increase accuracy with StandardScaler from scikit learn \n",
        "from sklearn.preprocessing import StandardScaler\n",
        "scaler = StandardScaler()\n",
        "X_train_scaled = scaler.fit_transform(X_train.astype(np.float64))\n",
        "cross_val_score(sgd_clf, X_train_scaled, y_train, cv=3, scoring=\"accuracy\")\n"
      ],
      "metadata": {
        "id": "BLTny2pT9l5o",
        "colab": {
          "base_uri": "https://localhost:8080/"
        },
        "outputId": "c6f84ede-7910-4b42-9dd0-a274504d9ebd"
      },
      "execution_count": 24,
      "outputs": [
        {
          "output_type": "execute_result",
          "data": {
            "text/plain": [
              "array([0.8983, 0.891 , 0.9018])"
            ]
          },
          "metadata": {},
          "execution_count": 24
        }
      ]
    },
    {
      "cell_type": "code",
      "source": [
        "#Confusion Matrix for the SGD multi-class classifier\n",
        "y_train_pred = cross_val_predict(sgd_clf, X_train_scaled, y_train, cv=3 )\n",
        "conf_mx = confusion_matrix(y_train, y_train_pred)\n",
        "conf_mx\n",
        "\n"
      ],
      "metadata": {
        "id": "5xPAyFnvDYqy"
      },
      "execution_count": null,
      "outputs": []
    },
    {
      "cell_type": "code",
      "source": [
        "#Visiualizing the confusion matrix with matplot lib\n",
        "plt.matshow(conf_mx, cmap=plt.cm.gray)\n",
        "plt.show()\n",
        "\n"
      ],
      "metadata": {
        "colab": {
          "base_uri": "https://localhost:8080/",
          "height": 275
        },
        "id": "NRQvtFl2N7dk",
        "outputId": "0e02ce98-2b31-404f-b1dc-3845c81f308a"
      },
      "execution_count": 26,
      "outputs": [
        {
          "output_type": "display_data",
          "data": {
            "text/plain": [
              "<Figure size 288x288 with 1 Axes>"
            ],
            "image/png": "[encoded data removed]"
          },
          "metadata": {
            "needs_background": "light"
          }
        }
      ]
    },
    {
      "cell_type": "code",
      "source": [
        "#Mutli-class classification with Random Forest Classfier\n",
        "from sklearn.ensemble import RandomForestClassifier\n",
        "forest_clf = RandomForestClassifier(random_state=42)\n",
        "y_probas_forest = cross_val_predict(forest_clf, X_train, y_train, cv=3, method=\"predict_proba\")\n",
        "forest_clf.fit(X_train, y_train)\n",
        "forest_clf.predict([some_digit])\n",
        "\n",
        "\n",
        "\n"
      ],
      "metadata": {
        "id": "cc4XMo0UQPxf"
      },
      "execution_count": null,
      "outputs": []
    },
    {
      "cell_type": "code",
      "source": [
        "#Using predict_proba() to get the list of probabilites that the classifier assigned to each class\n",
        "forest_clf.predict_proba([some_digit])\n"
      ],
      "metadata": {
        "colab": {
          "base_uri": "https://localhost:8080/"
        },
        "id": "mJclYR5gYxio",
        "outputId": "dd6c5e15-bf47-4e1e-e3ad-9b87436f4542"
      },
      "execution_count": 28,
      "outputs": [
        {
          "output_type": "execute_result",
          "data": {
            "text/plain": [
              "array([[0.  , 0.  , 0.01, 0.08, 0.  , 0.9 , 0.  , 0.  , 0.  , 0.01]])"
            ]
          },
          "metadata": {},
          "execution_count": 28
        }
      ]
    },
    {
      "cell_type": "markdown",
      "source": [
        "As seen the classifier is fairly confident about its predcition: the 0.9 at the 5th index in the array means that the mode estimated a 90% probability of the image representing 5 "
      ],
      "metadata": {
        "id": "OCtyq4kOZJRI"
      }
    },
    {
      "cell_type": "code",
      "source": [
        "#Confusion matrix for the RandomForestClassifier\n",
        "y_train_pred = cross_val_predict(forest_clf,X_train, y_train, cv=3)\n",
        "cnf_mx_2 = confusion_matrix(y_train,y_train_pred)\n",
        "cnf_mx_2\n"
      ],
      "metadata": {
        "id": "PYI0PUYiBWMB"
      },
      "execution_count": null,
      "outputs": []
    },
    {
      "cell_type": "code",
      "source": [
        "#Visiualizing the confusion matrix with matplot lib\n",
        "plt.matshow(cnf_mx_2, cmap=plt.cm.gray)\n",
        "plt.show()\n"
      ],
      "metadata": {
        "id": "OxG9s4pVzdiU"
      },
      "execution_count": null,
      "outputs": []
    },
    {
      "cell_type": "markdown",
      "source": [
        "So far both Stochastic Gradeint Descent and Random Forest have performed well on the training data. This can be seen from the confusion matrices of both models. Now let's see how both perform on the test set "
      ],
      "metadata": {
        "id": "9CcyCweU5zRV"
      }
    },
    {
      "cell_type": "code",
      "source": [
        "#Fit both models on the test set \n",
        "forest_clf.fit(X_test, y_test)\n",
        "sgd_clf.fit(X_test, y_test)\n"
      ],
      "metadata": {
        "colab": {
          "base_uri": "https://localhost:8080/"
        },
        "id": "KtBbLzQg7mAi",
        "outputId": "2de23388-544d-4ba3-ba6a-f13d82e23710"
      },
      "execution_count": 31,
      "outputs": [
        {
          "output_type": "execute_result",
          "data": {
            "text/plain": [
              "SGDClassifier(random_state=42)"
            ]
          },
          "metadata": {},
          "execution_count": 31
        }
      ]
    },
    {
      "cell_type": "code",
      "source": [
        "#Measure the accuracy with cross validation\n",
        "y_test_pred = cross_val_predict(forest_clf, X_test,y_test, cv=3 )\n",
        "y_test_pred_1 = cross_val_predict(sgd_clf, X_test,y_test, cv=3 )\n"
      ],
      "metadata": {
        "id": "1SH6SbZG84OV"
      },
      "execution_count": 33,
      "outputs": []
    },
    {
      "cell_type": "code",
      "source": [
        "#Confusion matrix for Random Forest classifier\n",
        "plt.matshow(confusion_matrix(y_test,y_test_pred), cmap=plt.cm.gray)\n",
        "plt.show()\n"
      ],
      "metadata": {
        "colab": {
          "base_uri": "https://localhost:8080/",
          "height": 275
        },
        "id": "wB6YdE0PTTNx",
        "outputId": "08e9abf0-5c38-4e60-cfb6-78c55bf4444d"
      },
      "execution_count": 35,
      "outputs": [
        {
          "output_type": "display_data",
          "data": {
            "text/plain": [
              "<Figure size 288x288 with 1 Axes>"
            ],
            "image/png": "[encoded data removed]"
          },
          "metadata": {
            "needs_background": "light"
          }
        }
      ]
    },
    {
      "cell_type": "code",
      "source": [
        "#Confusion matrix for SGD Classifier\n",
        "plt.matshow(confusion_matrix(y_test,y_test_pred_1), cmap=plt.cm.gray)\n",
        "plt.show()"
      ],
      "metadata": {
        "colab": {
          "base_uri": "https://localhost:8080/",
          "height": 275
        },
        "id": "TrZ5Jwy0TjWG",
        "outputId": "0941f68b-672e-4390-a2c0-743852933336"
      },
      "execution_count": 36,
      "outputs": [
        {
          "output_type": "display_data",
          "data": {
            "text/plain": [
              "<Figure size 288x288 with 1 Axes>"
            ],
            "image/png": "[encoded data removed]"
          },
          "metadata": {
            "needs_background": "light"
          }
        }
      ]
    },
    {
      "cell_type": "markdown",
      "source": [],
      "metadata": {
        "id": "C4yEny6lVVCX"
      }
    },
    {
      "cell_type": "code",
      "source": [
        "#Accuracy of SGD classifier\n",
        "cross_val_score(sgd_clf,X_test, y_test, scoring=\"accuracy\")\n"
      ],
      "metadata": {
        "colab": {
          "base_uri": "https://localhost:8080/"
        },
        "id": "_0oPXTYCVClp",
        "outputId": "f65a2c4d-0f19-415b-da51-a1501236b47a"
      },
      "execution_count": 39,
      "outputs": [
        {
          "output_type": "execute_result",
          "data": {
            "text/plain": [
              "array([0.8465, 0.8565, 0.877 , 0.8935, 0.9035])"
            ]
          },
          "metadata": {},
          "execution_count": 39
        }
      ]
    },
    {
      "cell_type": "code",
      "source": [
        "#Accuracy of RandomForest Classifier\n",
        "cross_val_score(forest_clf,X_test, y_test, scoring=\"accuracy\")"
      ],
      "metadata": {
        "colab": {
          "base_uri": "https://localhost:8080/"
        },
        "id": "DtlayGaaWDLM",
        "outputId": "7e3c9503-57d9-42e3-91e3-07a7a9a8a5e0"
      },
      "execution_count": 38,
      "outputs": [
        {
          "output_type": "execute_result",
          "data": {
            "text/plain": [
              "array([0.9265, 0.926 , 0.947 , 0.9645, 0.9695])"
            ]
          },
          "metadata": {},
          "execution_count": 38
        }
      ]
    }
  ]
}